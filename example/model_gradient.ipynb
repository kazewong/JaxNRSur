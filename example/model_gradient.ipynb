{
 "cells": [
  {
   "cell_type": "code",
   "execution_count": 46,
   "id": "bf265ff7",
   "metadata": {},
   "outputs": [],
   "source": [
    "from jaxnrsur.NRSur7dq4 import NRSur7dq4Model\n",
    "from jaxnrsur.PolyPredictor import PolyPredictor\n",
    "import jax.numpy as jnp\n",
    "import jax\n",
    "import equinox as eqx\n",
    "import optax\n",
    "from jaxtyping import PyTree, Float\n",
    "jax.config.update(\"jax_enable_x64\", True)  # Use double precision"
   ]
  },
  {
   "cell_type": "code",
   "execution_count": 38,
   "id": "c607b8f3",
   "metadata": {},
   "outputs": [
    {
     "name": "stdout",
     "output_type": "stream",
     "text": [
      "Try loading file from cache\n",
      "Cache found and loading data\n"
     ]
    }
   ],
   "source": [
    "time = jnp.linspace(-5000, 100, 10000)\n",
    "params = jnp.array([0.9, 0.1, 0.4, 0.1, 0.5, 0.1, 0.3])\n",
    "model = NRSur7dq4Model()\n",
    "target_h = model(time, params)"
   ]
  },
  {
   "cell_type": "markdown",
   "id": "361b6da5",
   "metadata": {},
   "source": [
    "As an toy example, we will optimize the model parameters of a `NRSur7dq4Model` to match a target waveform generated with the same model but with slightly different parameters. This example does not have inherent physical meaning, but serves to illustrate how to use the model and its gradients for parameter tuning."
   ]
  },
  {
   "cell_type": "code",
   "execution_count": 33,
   "id": "53b13961",
   "metadata": {},
   "outputs": [],
   "source": [
    "def filter_func(x):\n",
    "    return isinstance(x, PolyPredictor)\n",
    "filtered_module, filter_static = eqx.partition(model, filter_func, is_leaf=filter_func)\n",
    "dynamic, static = eqx.partition(filtered_module, eqx.is_array)"
   ]
  },
  {
   "cell_type": "code",
   "execution_count": 41,
   "id": "beef3c99",
   "metadata": {},
   "outputs": [],
   "source": [
    "def loss(model, time, params):\n",
    "    model = eqx.combine(eqx.combine(dynamic, static), filter_static, is_leaf=filter_func)\n",
    "    hp, hc = model(time, params)\n",
    "    return jnp.mean( (hp - target_h[0])**2 + (hc - target_h[1])**2 )"
   ]
  },
  {
   "cell_type": "code",
   "execution_count": 45,
   "id": "a4d24f74",
   "metadata": {},
   "outputs": [],
   "source": [
    "loss_value = loss(dynamic, time, params)\n",
    "optim = optax.adam(learning_rate=1e-3)\n",
    "opt_state = optim.init(eqx.filter(eqx.filter(model, filter_func, is_leaf=filter_func), eqx.is_array))"
   ]
  },
  {
   "cell_type": "markdown",
   "id": "786aae92",
   "metadata": {},
   "source": [
    "Up to this point "
   ]
  },
  {
   "cell_type": "code",
   "execution_count": 55,
   "id": "b475e7d2",
   "metadata": {},
   "outputs": [],
   "source": [
    "def optimize_loss(model: NRSur7dq4Model, opt_state:  PyTree) -> tuple[NRSur7dq4Model, PyTree, Float]:\n",
    "    values, grads = eqx.filter_jit(eqx.filter_value_and_grad(loss))(model, time, params+1e-3)\n",
    "    updates, opt_state = optim.update(grads, opt_state, eqx.filter(eqx.filter(model, filter_func, is_leaf=filter_func), eqx.is_array))\n",
    "    model = eqx.apply_updates(model, updates)\n",
    "    return model, opt_state, values"
   ]
  },
  {
   "cell_type": "code",
   "execution_count": 56,
   "id": "7b5aa96e",
   "metadata": {},
   "outputs": [],
   "source": [
    "optimized_model, opt_state, loss_value = optimize_loss(dynamic, opt_state)"
   ]
  },
  {
   "cell_type": "code",
   "execution_count": 57,
   "id": "da255bc1",
   "metadata": {},
   "outputs": [],
   "source": [
    "combined_model = eqx.combine(eqx.combine(dynamic, static), filter_static, is_leaf=filter_func)"
   ]
  },
  {
   "cell_type": "code",
   "execution_count": 58,
   "id": "1e5fe4b3",
   "metadata": {},
   "outputs": [],
   "source": [
    "new_h = combined_model(time, params+1e-3)"
   ]
  },
  {
   "cell_type": "code",
   "execution_count": 59,
   "id": "8c5ddec1",
   "metadata": {},
   "outputs": [
    {
     "data": {
      "text/plain": [
       "(Array([0.00000000e+00, 0.00000000e+00, 0.00000000e+00, ...,\n",
       "        5.45840428e-06, 6.28605965e-06, 6.61686950e-06], dtype=float64),\n",
       " Array([ 0.00000000e+00,  0.00000000e+00,  0.00000000e+00, ...,\n",
       "        -5.09789162e-06, -4.36389742e-06, -3.19168348e-06], dtype=float64))"
      ]
     },
     "execution_count": 59,
     "metadata": {},
     "output_type": "execute_result"
    }
   ],
   "source": [
    "new_h[0] - target_h[0], new_h[1] - target_h[1]  # Check the difference"
   ]
  },
  {
   "cell_type": "code",
   "execution_count": null,
   "id": "97d53938",
   "metadata": {},
   "outputs": [],
   "source": []
  }
 ],
 "metadata": {
  "kernelspec": {
   "display_name": "jaxnrsur (3.11.13)",
   "language": "python",
   "name": "python3"
  },
  "language_info": {
   "codemirror_mode": {
    "name": "ipython",
    "version": 3
   },
   "file_extension": ".py",
   "mimetype": "text/x-python",
   "name": "python",
   "nbconvert_exporter": "python",
   "pygments_lexer": "ipython3",
   "version": "3.11.13"
  }
 },
 "nbformat": 4,
 "nbformat_minor": 5
}
